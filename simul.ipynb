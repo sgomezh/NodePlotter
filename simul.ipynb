{
 "cells": [
  {
   "cell_type": "code",
   "execution_count": null,
   "metadata": {},
   "outputs": [],
   "source": [
    "#restart kernel\n",
    "import os\n",
    "os._exit(00)"
   ]
  },
  {
   "cell_type": "code",
   "execution_count": 2,
   "metadata": {},
   "outputs": [],
   "source": [
    "import sys\n",
    "import argparse\n",
    "import pygame\n",
    "from nodeProp import Node \n",
    "import random \n",
    "import numpy as np\n",
    "import simulation as sm\n",
    "import state as st\n",
    "import heuristics\n",
    "import graphics as gp\n",
    "import node_manipulator as nd\n",
    "import nodeProp as np\n",
    "import properties as pr"
   ]
  },
  {
   "cell_type": "code",
   "execution_count": 3,
   "metadata": {},
   "outputs": [],
   "source": [
    "from cpmp import Greedy\n",
    "from cpmp import Layout\n",
    "import copy\n",
    "\n",
    "layout0 = Layout.read_file(\"cpmp/Instancias/BF//BF32/cpmp_20_8_128_52_96_8.bay\", 8)\n",
    "\n",
    "def simulation(p_key):\n",
    "\n",
    "    path = [] \n",
    "    \n",
    "    # Se crea una copia auxiliar que guarde la  informacion del nodo actual\n",
    "    aux = sm.StateMap[p_key] \n",
    "    path.insert(0,len(sm.StateMap[p_key].ChildList)+1)\n",
    "    \n",
    "    while aux.IdLastChild != None: \n",
    "    \n",
    "        # Se mete a la pila el nuevo hijo\n",
    "        path.insert(0,aux.IdLastChild) \n",
    "        \n",
    "        # Se obtiene el padre de nodo (con toda su informacion para crear el camino hacia arriba) \n",
    "        aux = aux.Parent \n",
    "        # Se vuelve a iterar siempre y cuando su IdChild no None, que es el caso del nodo raiz\n",
    "        \n",
    "    #simulation\n",
    "    layout = copy.deepcopy(layout0)\n",
    "     \n",
    "    eval, actions = Greedy.simulation(layout, path, min_action=1)\n",
    "    #print(p_key,path)\n",
    "    #print(eval, actions)\n",
    "    return -eval, actions\n"
   ]
  },
  {
   "cell_type": "code",
   "execution_count": 4,
   "metadata": {},
   "outputs": [],
   "source": [
    "def click_node(NOS,id,n_manipulator):\n",
    "    \n",
    "    for i in range(NOS):\n",
    "        if len(n_manipulator.nodes[id].conected_nodes) >= sm.StateMap[id].NumActions: break           \n",
    "\n",
    "        id_child = n_manipulator.generate_son(id)         \n",
    "        eval, actions = simulation(id)\n",
    "        sm.StateMap[id].NumActions=actions\n",
    "        sm.CreateState(id_child, id, -1, eval)             \n",
    "        \n",
    "    #more graphic staff\n",
    "    for node in n_manipulator.nodes:\n",
    "        newColor = pr.StateColor(node.id, len(n_manipulator.nodes)) \n",
    "        node.color_to(newColor)"
   ]
  },
  {
   "cell_type": "code",
   "execution_count": 5,
   "metadata": {},
   "outputs": [],
   "source": [
    "raiz = Node([27, 27], [200, 200, 200], 1, 0) \n",
    "n_manipulator = nd.NodeManipulator(raiz) \n",
    "\n",
    "pygame.init()\n",
    "screen = pygame.display.set_mode((900, 500), pygame.SRCALPHA, 32)\n",
    "pygame.display.set_caption(\"Node Plotter\")"
   ]
  },
  {
   "cell_type": "code",
   "execution_count": 6,
   "metadata": {},
   "outputs": [],
   "source": [
    "#visualización (fase recopilación de información)\n",
    "done=False\n",
    "while not done:\n",
    "\n",
    "    for event in pygame.event.get():\n",
    "        if event.type == pygame.QUIT:\n",
    "            pygame.display.quit()\n",
    "            pygame.quit()\n",
    "            done=True\n",
    "        elif event.type == pygame.MOUSEBUTTONDOWN:\n",
    "            x, y = event.pos\n",
    "            id = n_manipulator.get_node_id(x,y)\n",
    "\n",
    "            #ningun nodo seleccionado (seleccion automatica)\n",
    "            if id == -1 or len(sm.StateMap[id].ChildList) >= sm.StateMap[id].NumActions : \n",
    "                continue\n",
    "\n",
    "            click_node(2,id,n_manipulator)\n",
    "                \n",
    "        elif event.type == pygame.KEYDOWN:\n",
    "                if event.key == pygame.K_w: n_manipulator.camera.drag(0, 45)\n",
    "                elif event.key == pygame.K_s: n_manipulator.camera.drag(0, -45)\n",
    "                elif event.key == pygame.K_d: n_manipulator.camera.drag(-45, 0)\n",
    "                elif event.key == pygame.K_a: n_manipulator.camera.drag(45, 0)\n",
    "                elif event.key == pygame.K_z: n_manipulator.camera.anchura -= 1\n",
    "                elif event.key == pygame.K_x: n_manipulator.camera.anchura += 1\n",
    "                elif event.key == pygame.K_r: n_manipulator.camera.altura -= 1\n",
    "                elif event.key == pygame.K_f: n_manipulator.camera.altura += 1\n",
    "                \n",
    "                n_manipulator.update_position()\n",
    "            \n",
    "    if not done:\n",
    "        n_manipulator.update()\n",
    "\n",
    "        screen.fill((33, 33, 33))\n",
    "        n_manipulator.draw(screen)\n",
    "        pygame.display.update()\n",
    "        pygame.time.wait(10)\n",
    "        "
   ]
  },
  {
   "cell_type": "code",
   "execution_count": 7,
   "metadata": {},
   "outputs": [
    {
     "data": {
      "text/plain": [
       "(122, 1)"
      ]
     },
     "execution_count": 7,
     "metadata": {},
     "output_type": "execute_result"
    }
   ],
   "source": [
    "#For debugging purposes\n",
    "\n",
    "from cpmp import Greedy\n",
    "from cpmp import Layout\n",
    "import copy\n",
    "\n",
    "layout0 = Layout.read_file(\"cpmp/Instancias/BF//BF32/cpmp_20_8_128_52_96_8.bay\", 8)\n",
    "layout = copy.deepcopy(layout0)\n",
    "Greedy.simulation(layout, [3, 4, 6, 1],min_action=1)"
   ]
  },
  {
   "cell_type": "code",
   "execution_count": null,
   "metadata": {},
   "outputs": [],
   "source": []
  }
 ],
 "metadata": {
  "kernelspec": {
   "display_name": "Python 3",
   "language": "python",
   "name": "python3"
  },
  "language_info": {
   "codemirror_mode": {
    "name": "ipython",
    "version": 3
   },
   "file_extension": ".py",
   "mimetype": "text/x-python",
   "name": "python",
   "nbconvert_exporter": "python",
   "pygments_lexer": "ipython3",
   "version": "3.7.3"
  }
 },
 "nbformat": 4,
 "nbformat_minor": 4
}
