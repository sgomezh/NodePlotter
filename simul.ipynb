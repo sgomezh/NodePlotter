{
 "cells": [
  {
   "cell_type": "code",
   "execution_count": null,
   "metadata": {},
   "outputs": [],
   "source": [
    "#restart kernel\n",
    "import os\n",
    "os._exit(00)"
   ]
  },
  {
   "cell_type": "code",
   "execution_count": 3,
   "metadata": {},
   "outputs": [
    {
     "name": "stdout",
     "output_type": "stream",
     "text": [
      "pygame 2.0.0.dev6 (SDL 2.0.10, python 3.7.3)\n",
      "Hello from the pygame community. https://www.pygame.org/contribute.html\n"
     ]
    }
   ],
   "source": [
    "import sys\n",
    "import argparse\n",
    "import pygame\n",
    "from nodeProp import Node \n",
    "import random \n",
    "import numpy as np\n",
    "import simulation as sm\n",
    "import state as st\n",
    "import heuristics\n",
    "import graphics as gp\n",
    "import node_manipulator as nd\n",
    "import nodeProp as np\n",
    "import properties as pr"
   ]
  },
  {
   "cell_type": "code",
   "execution_count": 4,
   "metadata": {},
   "outputs": [],
   "source": [
    "from cpmp import Greedy\n",
    "from cpmp import Layout\n",
    "import copy\n",
    "\n",
    "layout0 = Layout.read_file(\"cpmp/Instancias/BF//BF32/cpmp_20_8_128_52_96_8.bay\", 8)\n",
    "\n",
    "def simulation(p_key):\n",
    "\n",
    "    path = [] \n",
    "    \n",
    "    # Se crea una copia auxiliar que guarde la  informacion del nodo actual\n",
    "    aux = sm.StateMap[p_key] \n",
    "    path.insert(0,len(sm.StateMap[p_key].ChildList)+1)\n",
    "    \n",
    "    while aux.IdLastChild != None: \n",
    "    \n",
    "        # Se mete a la pila el nuevo hijo\n",
    "        path.insert(0,aux.IdLastChild) \n",
    "        \n",
    "        # Se obtiene el padre de nodo (con toda su informacion para crear el camino hacia arriba) \n",
    "        aux = aux.Parent \n",
    "        # Se vuelve a iterar siempre y cuando su IdChild no None, que es el caso del nodo raiz\n",
    "        \n",
    "    #simulation\n",
    "    layout = copy.deepcopy(layout0)\n",
    "     \n",
    "    eval, actions = Greedy.simulation(layout, path)\n",
    "    return (140-eval)/40, actions\n"
   ]
  },
  {
   "cell_type": "code",
   "execution_count": 5,
   "metadata": {},
   "outputs": [],
   "source": [
    "def click_node(NOS,id,n_manipulator):\n",
    "    #graphic staff\n",
    "    for i in range(0,NOS):\n",
    "        if i==0: id_child = n_manipulator.generate_son(id)\n",
    "        else: n_manipulator.generate_son(id)\n",
    "\n",
    "    for i in range(NOS):\n",
    "        eval, actions = simulation(id)\n",
    "        sm.CreateState(id_child, id, actions, eval)\n",
    "        id_child += 1\n",
    "        \n",
    "        \n",
    "    #more graphic staff\n",
    "    for node in n_manipulator.nodes:\n",
    "        newColor = pr.StateColor(node.id, len(n_manipulator.nodes)) \n",
    "        node.color_to(newColor)"
   ]
  },
  {
   "cell_type": "code",
   "execution_count": 6,
   "metadata": {},
   "outputs": [],
   "source": [
    "raiz = Node([27, 27], [200, 200, 200], 1, 0) \n",
    "n_manipulator = nd.NodeManipulator(raiz) \n",
    "\n",
    "pygame.init()\n",
    "screen = pygame.display.set_mode((900, 500), pygame.SRCALPHA, 32)\n",
    "pygame.display.set_caption(\"Node Plotter\")\n",
    "\n",
    "#click_node(2,0,n_manipulator)\n",
    "#click_node(2,0,n_manipulator)\n",
    "#click_node(2,1,n_manipulator)"
   ]
  },
  {
   "cell_type": "code",
   "execution_count": null,
   "metadata": {},
   "outputs": [],
   "source": [
    "#visualización (fase recopilación de información)\n",
    "done=False\n",
    "while not done:\n",
    "\n",
    "    for event in pygame.event.get():\n",
    "        if event.type == pygame.QUIT:\n",
    "            pygame.display.quit()\n",
    "            pygame.quit()\n",
    "            done=True\n",
    "        elif event.type == pygame.MOUSEBUTTONDOWN:\n",
    "            x, y = event.pos\n",
    "            id = n_manipulator.get_node_id(x,y)\n",
    "\n",
    "            #ningun nodo seleccionado (seleccion automatica)\n",
    "            if id == -1 or len(sm.StateMap[id].ChildList) >= sm.StateMap[id].NumActions : \n",
    "                continue\n",
    "            \n",
    "            # En etapa 1 (recuperación de información)\n",
    "            # -->  ALMACENAR INFORMACION RELACIONADA A LA DECISION DEL USUARIO\n",
    "            \n",
    "            simulation(id)\n",
    "            click_node(2,id,n_manipulator)\n",
    "            \n",
    "    if not done:\n",
    "        n_manipulator.update()\n",
    "\n",
    "        screen.fill((33, 33, 33))\n",
    "        n_manipulator.draw(screen)\n",
    "        pygame.display.update()\n",
    "        pygame.time.wait(10)\n",
    "        "
   ]
  },
  {
   "cell_type": "code",
   "execution_count": null,
   "metadata": {},
   "outputs": [],
   "source": []
  }
 ],
 "metadata": {
  "kernelspec": {
   "display_name": "Python 3",
   "language": "python",
   "name": "python3"
  },
  "language_info": {
   "codemirror_mode": {
    "name": "ipython",
    "version": 3
   },
   "file_extension": ".py",
   "mimetype": "text/x-python",
   "name": "python",
   "nbconvert_exporter": "python",
   "pygments_lexer": "ipython3",
   "version": "3.7.3"
  }
 },
 "nbformat": 4,
 "nbformat_minor": 4
}
