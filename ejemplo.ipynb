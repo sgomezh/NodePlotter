{
 "cells": [
  {
   "cell_type": "code",
   "execution_count": null,
   "metadata": {},
   "outputs": [],
   "source": [
    "#restart kernel\n",
    "import os\n",
    "os._exit(00)"
   ]
  },
  {
   "cell_type": "code",
   "execution_count": 1,
   "metadata": {},
   "outputs": [
    {
     "name": "stdout",
     "output_type": "stream",
     "text": [
      "pygame 2.0.0.dev6 (SDL 2.0.10, python 3.7.3)\n",
      "Hello from the pygame community. https://www.pygame.org/contribute.html\n"
     ]
    }
   ],
   "source": [
    "import sys\n",
    "import argparse\n",
    "import pygame\n",
    "from nodeProp import Node \n",
    "import random \n",
    "import numpy as np\n",
    "import simulation as sm\n",
    "import state as st\n",
    "import heuristics\n",
    "import graphics as gp\n",
    "import node_manipulator as nd\n",
    "import nodeProp as np"
   ]
  },
  {
   "cell_type": "code",
   "execution_count": 2,
   "metadata": {},
   "outputs": [
    {
     "name": "stderr",
     "output_type": "stream",
     "text": [
      "C:\\Users\\Dell\\Documents\\local_projects\\mcts\\state.py:91: RuntimeWarning: divide by zero encountered in double_scalars\n",
      "  totalMean= Sum / (State.totalSimulations)\n",
      "C:\\Users\\Dell\\Documents\\local_projects\\mcts\\state.py:108: RuntimeWarning: divide by zero encountered in double_scalars\n",
      "  NewSquareMean = Sum / (State.totalSimulations)\n",
      "C:\\Users\\Dell\\Documents\\local_projects\\mcts\\state.py:127: RuntimeWarning: invalid value encountered in double_scalars\n",
      "  Diff = SquareMean - (Mean**2)\n",
      "C:\\Users\\Dell\\Documents\\local_projects\\mcts\\state.py:89: RuntimeWarning: invalid value encountered in double_scalars\n",
      "  Data = State.totalMean * (State.totalSimulations-1)\n",
      "C:\\Users\\Dell\\Documents\\local_projects\\mcts\\state.py:106: RuntimeWarning: invalid value encountered in double_scalars\n",
      "  Data = State.totalSquareMean * (State.totalSimulations-1)\n"
     ]
    }
   ],
   "source": [
    "raiz = Node([27, 27], [200, 200, 200], 1, 0) \n",
    "n_manipulator = nd.NodeManipulator(raiz) \n",
    "\n",
    "pygame.init()\n",
    "screen = pygame.display.set_mode((900, 500), pygame.SRCALPHA, 32)\n",
    "pygame.display.set_caption(\"Node Plotter\")\n",
    "\n",
    "gp.click_node(2,0,n_manipulator)\n",
    "gp.click_node(2,0,n_manipulator)\n",
    "gp.click_node(2,1,n_manipulator)"
   ]
  },
  {
   "cell_type": "code",
   "execution_count": 3,
   "metadata": {},
   "outputs": [],
   "source": [
    "#visualización \n",
    "done=False\n",
    "while not done:\n",
    "\n",
    "    for event in pygame.event.get():\n",
    "        if event.type == pygame.QUIT:\n",
    "            pygame.display.quit()\n",
    "            pygame.quit()\n",
    "            done=True\n",
    "        elif event.type == pygame.MOUSEBUTTONDOWN:\n",
    "            x, y = event.pos\n",
    "            id = n_manipulator.get_node_id(x,y)\n",
    "\n",
    "            #ningun nodo seleccionado (seleccion automatica)\n",
    "            if id == -1 or len(sm.StateMap[id].ChildList) >= sm.StateMap[id].NumActions : \n",
    "                continue\n",
    "                \n",
    "            gp.click_node(2,id,n_manipulator)\n",
    "            \n",
    "    if not done:\n",
    "        n_manipulator.update()\n",
    "\n",
    "        screen.fill((33, 33, 33))\n",
    "        n_manipulator.draw(screen)\n",
    "        pygame.display.update()\n",
    "        pygame.time.wait(10)\n",
    "        "
   ]
  },
  {
   "cell_type": "code",
   "execution_count": null,
   "metadata": {},
   "outputs": [],
   "source": []
  }
 ],
 "metadata": {
  "kernelspec": {
   "display_name": "Python 3",
   "language": "python",
   "name": "python3"
  },
  "language_info": {
   "codemirror_mode": {
    "name": "ipython",
    "version": 3
   },
   "file_extension": ".py",
   "mimetype": "text/x-python",
   "name": "python",
   "nbconvert_exporter": "python",
   "pygments_lexer": "ipython3",
   "version": "3.7.3"
  }
 },
 "nbformat": 4,
 "nbformat_minor": 4
}
