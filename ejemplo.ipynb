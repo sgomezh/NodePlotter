{
 "cells": [
  {
   "cell_type": "code",
   "execution_count": null,
   "metadata": {},
   "outputs": [],
   "source": [
    "#restart kernel\n",
    "import os\n",
    "os._exit(00)"
   ]
  },
  {
   "cell_type": "code",
   "execution_count": 1,
   "metadata": {},
   "outputs": [
    {
     "name": "stdout",
     "output_type": "stream",
     "text": [
      "pygame 2.0.0.dev6 (SDL 2.0.10, python 3.7.3)\n",
      "Hello from the pygame community. https://www.pygame.org/contribute.html\n"
     ]
    }
   ],
   "source": [
    "import sys\n",
    "import argparse\n",
    "import pygame\n",
    "from nodeProp import Node \n",
    "import random \n",
    "import numpy as np\n",
    "import simulation as sm\n",
    "import state as st\n",
    "import heuristics\n",
    "import graphics as gp\n",
    "import node_manipulator as nd\n",
    "import nodeProp as np"
   ]
  },
  {
   "cell_type": "code",
   "execution_count": 2,
   "metadata": {},
   "outputs": [],
   "source": [
    "raiz = Node([27, 27], [200, 200, 200], 1, 0) \n",
    "n_manipulator = nd.NodeManipulator(raiz) \n",
    "\n",
    "pygame.init()\n",
    "screen = pygame.display.set_mode((900, 500), pygame.SRCALPHA, 32)\n",
    "pygame.display.set_caption(\"Node Plotter\")\n",
    "\n",
    "gp.click_node(2,0,n_manipulator)\n",
    "gp.click_node(2,0,n_manipulator)\n",
    "gp.click_node(2,1,n_manipulator)"
   ]
  },
  {
   "cell_type": "code",
   "execution_count": 4,
   "metadata": {},
   "outputs": [],
   "source": [
    "#visualización (fase recopilación de información)\n",
    "done=False\n",
    "while not done:\n",
    "\n",
    "    for event in pygame.event.get():\n",
    "        if event.type == pygame.QUIT:\n",
    "            pygame.display.quit()\n",
    "            pygame.quit()\n",
    "            done=True\n",
    "        elif event.type == pygame.MOUSEBUTTONDOWN:\n",
    "            x, y = event.pos\n",
    "            id = n_manipulator.get_node_id(x,y)\n",
    "\n",
    "            #ningun nodo seleccionado (seleccion automatica)\n",
    "            if id == -1 or len(sm.StateMap[id].ChildList) >= sm.StateMap[id].NumActions : \n",
    "                continue\n",
    "            \n",
    "            # En etapa 1 (recuperación de información)\n",
    "            # -->  ALMACENAR INFORMACION RELACIONADA A LA DECISION DEL USUARIO\n",
    "            \n",
    "            gp.click_node(2,id,n_manipulator)\n",
    "\n",
    "        elif event.type == pygame.KEYDOWN:\n",
    "            if event.key == pygame.K_w: n_manipulator.camera.drag(0, 45)\n",
    "            elif event.key == pygame.K_s: n_manipulator.camera.drag(0, -45)\n",
    "            elif event.key == pygame.K_d: n_manipulator.camera.drag(-45, 0)\n",
    "            elif event.key == pygame.K_a: n_manipulator.camera.drag(45, 0)\n",
    "            elif event.key == pygame.K_z: n_manipulator.camera.anchura -= 1\n",
    "            elif event.key == pygame.K_x: n_manipulator.camera.anchura += 1\n",
    "            elif event.key == pygame.K_r: n_manipulator.camera.altura -= 1\n",
    "            elif event.key == pygame.K_f: n_manipulator.camera.altura += 1\n",
    "                \n",
    "            n_manipulator.update_position()\n",
    "            \n",
    "    if not done:\n",
    "        n_manipulator.update()\n",
    "\n",
    "        screen.fill((33, 33, 33))\n",
    "        n_manipulator.draw(screen)\n",
    "        pygame.display.update()\n",
    "        pygame.time.wait(10)\n",
    "        "
   ]
  },
  {
   "cell_type": "code",
   "execution_count": null,
   "metadata": {},
   "outputs": [],
   "source": [
    "# v es vector de parámetros: por ejemplo (A,B,C,D,E)\n",
    "# valores cercanos a 1 indicarían un buen ajuste de la heurística a las decisiones del usuario\n",
    "def eval_heuristic(v):\n",
    "    \n",
    "    #para cada nodo del archivo de muestras\n",
    "        #evaluar usando paramaterized_heuristic (v)\n",
    "        #ordenar los nodos de acuerdo a evaluación\n",
    "        #posicion <-- revisar en que posición quedaría el nodo escogido por el usuario\n",
    "        #calcular ranking: 1.0 - (posicion-1)/(numero_de_nodos-1)\n",
    "        #ranking_total = suma los rankings\n",
    "    \n",
    "    #retornar el ranking promedio\n"
   ]
  },
  {
   "cell_type": "code",
   "execution_count": null,
   "metadata": {},
   "outputs": [],
   "source": [
    "# encontrar los valores para el vector v que minimizan el valor de eval_heuristic\n",
    "def training():\n",
    "    v = initial_vector #random\n",
    "    best_quality = eval_heuristic(v)\n",
    "    no_improvements = 0\n",
    "    while no_improvements<50:\n",
    "        i = random_parameter(v) # 0..4\n",
    "        old_value = v[i]\n",
    "        v[i] = random_value (v[i]) #aumentar o disminuir hasta 10%\n",
    "        quality = eval_heuristic(v)\n",
    "        if quality > best_quality:\n",
    "            best_quality = quality\n",
    "            no_improvements = 0\n",
    "        else:\n",
    "            v[i]= old_value\n",
    "            no_improvements += 1"
   ]
  },
  {
   "cell_type": "code",
   "execution_count": null,
   "metadata": {},
   "outputs": [],
   "source": []
  }
 ],
 "metadata": {
  "kernelspec": {
   "display_name": "Python 3",
   "language": "python",
   "name": "python3"
  },
  "language_info": {
   "codemirror_mode": {
    "name": "ipython",
    "version": 3
   },
   "file_extension": ".py",
   "mimetype": "text/x-python",
   "name": "python",
   "nbconvert_exporter": "python",
   "pygments_lexer": "ipython3",
   "version": "3.7.3"
  }
 },
 "nbformat": 4,
 "nbformat_minor": 4
}
